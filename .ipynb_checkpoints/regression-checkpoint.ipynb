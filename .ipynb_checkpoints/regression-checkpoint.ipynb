{
 "cells": [
  {
   "cell_type": "code",
   "execution_count": 3,
   "metadata": {},
   "outputs": [
    {
     "ename": "AttributeError",
     "evalue": "'Series' object has no attribute 'value'",
     "output_type": "error",
     "traceback": [
      "\u001b[0;31m---------------------------------------------------------------------------\u001b[0m",
      "\u001b[0;31mAttributeError\u001b[0m                            Traceback (most recent call last)",
      "\u001b[0;32m<ipython-input-3-7395e8f68968>\u001b[0m in \u001b[0;36m<module>\u001b[0;34m()\u001b[0m\n\u001b[1;32m     14\u001b[0m \u001b[0mtraumaDataset\u001b[0m \u001b[0;34m=\u001b[0m \u001b[0mdataset\u001b[0m\u001b[0;34m[\u001b[0m\u001b[0mdataset\u001b[0m\u001b[0;34m[\u001b[0m\u001b[0;34m'trauma'\u001b[0m\u001b[0;34m]\u001b[0m \u001b[0;34m==\u001b[0m \u001b[0;34m'Yes'\u001b[0m\u001b[0;34m]\u001b[0m\u001b[0;34m\u001b[0m\u001b[0m\n\u001b[1;32m     15\u001b[0m \u001b[0;34m\u001b[0m\u001b[0m\n\u001b[0;32m---> 16\u001b[0;31m \u001b[0mdata\u001b[0m \u001b[0;34m=\u001b[0m \u001b[0mtraumaDataset\u001b[0m\u001b[0;34m.\u001b[0m\u001b[0mdance\u001b[0m\u001b[0;34m.\u001b[0m\u001b[0mvalue\u001b[0m\u001b[0;34m.\u001b[0m\u001b[0mreshape\u001b[0m\u001b[0;34m(\u001b[0m\u001b[0;34m(\u001b[0m\u001b[0mlen\u001b[0m\u001b[0;34m(\u001b[0m\u001b[0mtraumaDataset\u001b[0m\u001b[0;34m.\u001b[0m\u001b[0mdance\u001b[0m\u001b[0;34m)\u001b[0m\u001b[0;34m,\u001b[0m \u001b[0;36m1\u001b[0m\u001b[0;34m)\u001b[0m\u001b[0;34m)\u001b[0m\u001b[0;34m\u001b[0m\u001b[0m\n\u001b[0m\u001b[1;32m     17\u001b[0m \u001b[0mCV\u001b[0m \u001b[0;34m=\u001b[0m \u001b[0mtraumaDataset\u001b[0m\u001b[0;34m.\u001b[0m\u001b[0mtotal_health\u001b[0m\u001b[0;34m.\u001b[0m\u001b[0mreshape\u001b[0m\u001b[0;34m(\u001b[0m\u001b[0;34m(\u001b[0m\u001b[0mlen\u001b[0m\u001b[0;34m(\u001b[0m\u001b[0mtraumaDataset\u001b[0m\u001b[0;34m.\u001b[0m\u001b[0mhealth\u001b[0m\u001b[0;34m)\u001b[0m\u001b[0;34m,\u001b[0m \u001b[0;36m1\u001b[0m\u001b[0;34m)\u001b[0m\u001b[0;34m)\u001b[0m\u001b[0;34m\u001b[0m\u001b[0m\n\u001b[1;32m     18\u001b[0m \u001b[0;34m\u001b[0m\u001b[0m\n",
      "\u001b[0;32m/anaconda3/lib/python3.6/site-packages/pandas/core/generic.py\u001b[0m in \u001b[0;36m__getattr__\u001b[0;34m(self, name)\u001b[0m\n\u001b[1;32m   4370\u001b[0m             \u001b[0;32mif\u001b[0m \u001b[0mself\u001b[0m\u001b[0;34m.\u001b[0m\u001b[0m_info_axis\u001b[0m\u001b[0;34m.\u001b[0m\u001b[0m_can_hold_identifiers_and_holds_name\u001b[0m\u001b[0;34m(\u001b[0m\u001b[0mname\u001b[0m\u001b[0;34m)\u001b[0m\u001b[0;34m:\u001b[0m\u001b[0;34m\u001b[0m\u001b[0m\n\u001b[1;32m   4371\u001b[0m                 \u001b[0;32mreturn\u001b[0m \u001b[0mself\u001b[0m\u001b[0;34m[\u001b[0m\u001b[0mname\u001b[0m\u001b[0;34m]\u001b[0m\u001b[0;34m\u001b[0m\u001b[0m\n\u001b[0;32m-> 4372\u001b[0;31m             \u001b[0;32mreturn\u001b[0m \u001b[0mobject\u001b[0m\u001b[0;34m.\u001b[0m\u001b[0m__getattribute__\u001b[0m\u001b[0;34m(\u001b[0m\u001b[0mself\u001b[0m\u001b[0;34m,\u001b[0m \u001b[0mname\u001b[0m\u001b[0;34m)\u001b[0m\u001b[0;34m\u001b[0m\u001b[0m\n\u001b[0m\u001b[1;32m   4373\u001b[0m \u001b[0;34m\u001b[0m\u001b[0m\n\u001b[1;32m   4374\u001b[0m     \u001b[0;32mdef\u001b[0m \u001b[0m__setattr__\u001b[0m\u001b[0;34m(\u001b[0m\u001b[0mself\u001b[0m\u001b[0;34m,\u001b[0m \u001b[0mname\u001b[0m\u001b[0;34m,\u001b[0m \u001b[0mvalue\u001b[0m\u001b[0;34m)\u001b[0m\u001b[0;34m:\u001b[0m\u001b[0;34m\u001b[0m\u001b[0m\n",
      "\u001b[0;31mAttributeError\u001b[0m: 'Series' object has no attribute 'value'"
     ]
    }
   ],
   "source": [
    "import matplotlib.pyplot as plt\n",
    "import pandas as pd\n",
    "import math\n",
    "import numpy as np\n",
    "import pylab as P\n",
    "import seaborn as sns\n",
    "\n",
    "from sklearn import linear_model\n",
    "from sklearn.metrics import r2_score\n",
    "from sklearn.metrics import mean_squared_error\n",
    "\n",
    "dataset = pd.read_csv('data/master.csv')\n",
    "\n",
    "traumaDataset = dataset[dataset['trauma'] == 'Yes']\n",
    "\n",
    "data = traumaDataset.dance.value.reshape((len(traumaDataset.dance), 1))\n",
    "CV = traumaDataset.total_health.reshape((len(traumaDataset.health), 1))\n",
    "\n",
    "regr = linear_model.LinearRegression()\n",
    "regr.fit(data,CV)\n",
    "predicted_results = regr.predict(data)\n",
    "\n",
    "plt.figure(1)\n",
    "plt.plot(data, predicted_results, color = 'green', linewidth =3)\n",
    "plt.scatter(data, CV, color='black')\n",
    "plt.title('Mental health as a function of song dance level')\n",
    "plt.xlabel('dance level')\n",
    "plt.ylabel('health')\n",
    "plt.show()\n",
    "\n",
    "print(\"Result with Outlier:\")\n",
    "print('Coefficients (m): \\n', regr.coef_)\n",
    "print('Intercept (b): \\n', regr.intercept_)\n",
    "\n",
    "MSE = mean_squared_error(CV, predicted_results)\n",
    "RMSE = math.sqrt(MSE)\n",
    "\n",
    "R2 = r2_score(CV, predicted_results)\n",
    "\n",
    "print(\"Mean residual sum of squares =\", MSE)\n",
    "print(\"RMSE =\", RMSE)\n",
    "print(\"R2 =\", R2)\n",
    "print(\"Mean residual sum of squares = %.2f\" % np.mean((regr.predict(data) - CV) **2))\n",
    "print('R2 = %.2f' % regr.score(data, CV))\n",
    "\n",
    "residual_error = CV - predicted_results\n",
    "print(\"Mean of residuals =\", np.std(residual_error))\n",
    "print(\"standard deviation of residuals =\", np.std(residual_error))\n",
    "\n",
    "plt.figure(2)\n",
    "plt.plot((0,1),(0,0), 'r--')\n",
    "plt.scatter(data, residual_error, label='residual error')\n",
    "plt.title(\"Residual plot\")\n",
    "plt.xlabel(\"dance\")\n",
    "plt.ylabel(\"residual error\")\n",
    "plt.show()\n",
    "\n",
    "plt.figure(3)\n",
    "plt.hist(residual_error)\n",
    "plt.title(\"Distribution of residuals\")\n",
    "plt.title(\"residual error\")\n",
    "plt.show()\n",
    "\n",
    "plt.figure(4)\n",
    "n, bins, patches = plt.hist(residual_error, 10, normed=1, alpha = 0.5)\n",
    "y_pdf = P.normpdf(bins, np.mean(residual_error), np.std(residual_error))\n",
    "l = P.plot(bins, y_pdf, 'k--', linewidth=1.5)\n",
    "plt.title(\"Residual Distribution\")\n",
    "plt.show()"
   ]
  },
  {
   "cell_type": "code",
   "execution_count": null,
   "metadata": {},
   "outputs": [],
   "source": []
  }
 ],
 "metadata": {
  "kernelspec": {
   "display_name": "Python 3",
   "language": "python",
   "name": "python3"
  },
  "language_info": {
   "codemirror_mode": {
    "name": "ipython",
    "version": 3
   },
   "file_extension": ".py",
   "mimetype": "text/x-python",
   "name": "python",
   "nbconvert_exporter": "python",
   "pygments_lexer": "ipython3",
   "version": "3.6.5"
  }
 },
 "nbformat": 4,
 "nbformat_minor": 2
}
