{
 "cells": [
  {
   "cell_type": "code",
   "execution_count": 41,
   "metadata": {},
   "outputs": [],
   "source": [
    "import pandas as pd"
   ]
  },
  {
   "cell_type": "code",
   "execution_count": 51,
   "metadata": {},
   "outputs": [],
   "source": [
    "# Survey Data Cleaning\n",
    "\n",
    "survey = pd.read_csv('data/survey.csv')\n",
    "survey['id'] = survey.index\n",
    "survey.columns = ['timestamp', 'gender', 'age', 'amount_music', 'life_enjoyment', 'resilience', \n",
    "                  'balanced_life', 'emotional_flex', 'self_actualization', 'song1', 'song2', 'song3', 'trauma', 'id']\n",
    "survey['total_health'] = (survey['life_enjoyment'] + survey['resilience'] + survey['balanced_life'] + \n",
    "                          survey['emotional_flex'] + survey['self_actualization'])\n",
    "\n",
    "# Clean song strings for sending to Spotify API\n",
    "survey['song1'] = survey['song1'].str.replace('by', '').str.replace('-', '').str.replace(',','').str.replace('  ', ' ')\n",
    "survey['song2'] = survey['song2'].str.replace('by', '').str.replace('-', '').str.replace(',','').str.replace('  ', ' ')\n",
    "survey['song3'] = survey['song3'].str.replace('by', '').str.replace('-', '').str.replace(',','').str.replace('  ', ' ')\n",
    "\n",
    "# Arrange songs by ID for Spotify API\n",
    "songs_only = pd.DataFrame(columns=['id','songs'])\n",
    "\n",
    "for index, row in survey.iterrows():\n",
    "    songs_only = songs_only.append({'id' : row['id'] , 'songs' : row['song1']}, ignore_index=True)\n",
    "    songs_only = songs_only.append({'id' : row['id'] , 'songs' : row['song2']}, ignore_index=True)\n",
    "    songs_only = songs_only.append({'id' : row['id'] , 'songs' : row['song3']}, ignore_index=True)\n",
    "    \n",
    "songs_only.to_csv('data/songs_only.csv', index=False)\n",
    "\n",
    "## Retrieve audio features using spotipy.py\n",
    "\n",
    "# Cleaning audio features from Spotify API output\n",
    "\n",
    "song_metrics = pd.read_csv('data/song_metrics.csv')\n",
    "\n",
    "avg_metrics = song_metrics.groupby('id').mean()\n",
    "\n",
    "master = pd.merge(survey, avg_metrics, on='id')\n",
    "master = master.drop(columns=['Unnamed: 0'])\n",
    "\n",
    "# Creating categorical variable for mental health\n",
    "master.loc[master['total_health'] > 15, 'health_categorical'] = 1\n",
    "master.loc[master['total_health'] <= 15, 'health_categorical'] = 0\n",
    "\n",
    "master.to_csv('data/master.csv', index=False)"
   ]
  }
 ],
 "metadata": {
  "kernelspec": {
   "display_name": "Python 3",
   "language": "python",
   "name": "python3"
  },
  "language_info": {
   "codemirror_mode": {
    "name": "ipython",
    "version": 3
   },
   "file_extension": ".py",
   "mimetype": "text/x-python",
   "name": "python",
   "nbconvert_exporter": "python",
   "pygments_lexer": "ipython3",
   "version": "3.6.5"
  }
 },
 "nbformat": 4,
 "nbformat_minor": 2
}
