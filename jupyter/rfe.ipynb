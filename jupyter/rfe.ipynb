{
 "cells": [
  {
   "cell_type": "code",
   "execution_count": 19,
   "metadata": {},
   "outputs": [
    {
     "name": "stdout",
     "output_type": "stream",
     "text": [
      "[False False False False False  True False False]\n",
      "[4 2 5 7 6 1 3 8]\n"
     ]
    }
   ],
   "source": [
    "# Feature Importance\n",
    "import pandas as pd \n",
    "from sklearn.linear_model import LogisticRegression\n",
    "from sklearn.feature_selection import RFE\n",
    "from sklearn.preprocessing import StandardScaler\n",
    "\n",
    "# load the iris datasets\n",
    "dataset = pd.read_csv('data/master.csv')\n",
    "dataset = dataset.dropna()\n",
    "\n",
    "x = dataset[['tempo', 'popularity','energy', 'liveness', 'dance', 'valence', 'instrumental', 'acoustic']]\n",
    "y = dataset['health_categorical']\n",
    "\n",
    "sc = StandardScaler()  \n",
    "x_norm = sc.fit_transform(x) \n",
    "\n",
    "# create a base classifier used to evaluate a subset of attributes\n",
    "\n",
    "# Recursively remove attributes and build a model on those attributes that remain, \n",
    "# using model accuracy to find attributes (combination of attributes)\n",
    "model = LogisticRegression()\n",
    "\n",
    "# create the RFE model and list order of importance\n",
    "rfe = RFE(model, 1)\n",
    "rfe = rfe.fit(x_norm, y)\n",
    "\n",
    "# summarize the selection of the attributes\n",
    "print(rfe.support_)\n",
    "print(rfe.ranking_)"
   ]
  },
  {
   "cell_type": "code",
   "execution_count": null,
   "metadata": {},
   "outputs": [],
   "source": []
  }
 ],
 "metadata": {
  "kernelspec": {
   "display_name": "Python 3",
   "language": "python",
   "name": "python3"
  },
  "language_info": {
   "codemirror_mode": {
    "name": "ipython",
    "version": 3
   },
   "file_extension": ".py",
   "mimetype": "text/x-python",
   "name": "python",
   "nbconvert_exporter": "python",
   "pygments_lexer": "ipython3",
   "version": "3.6.5"
  }
 },
 "nbformat": 4,
 "nbformat_minor": 2
}
